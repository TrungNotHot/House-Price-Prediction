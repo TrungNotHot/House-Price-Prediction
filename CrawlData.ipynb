{
 "cells": [
  {
   "cell_type": "code",
   "execution_count": null,
   "id": "c351509b",
   "metadata": {
    "id": "c351509b"
   },
   "outputs": [],
   "source": [
    "from bs4 import BeautifulSoup\n",
    "import requests\n",
    "import pandas as pd\n",
    "import numpy as np\n",
    "import urllib.request\n",
    "import re\n",
    "import os"
   ]
  },
  {
   "cell_type": "code",
   "execution_count": null,
   "id": "6ebffa70",
   "metadata": {
    "id": "6ebffa70"
   },
   "outputs": [],
   "source": [
    "html_text = requests.get('https://batdongsan.vn/ban-nha/').text\n",
    "soup = BeautifulSoup(html_text, \"lxml\")"
   ]
  },
  {
   "cell_type": "code",
   "execution_count": null,
   "id": "af8a3db3",
   "metadata": {
    "id": "af8a3db3"
   },
   "outputs": [],
   "source": [
    "pages_url=[]"
   ]
  },
  {
   "cell_type": "code",
   "execution_count": null,
   "id": "c345e8b3",
   "metadata": {
    "id": "c345e8b3"
   },
   "outputs": [],
   "source": [
    "def get_dom(url):\n",
    "    with urllib.request.urlopen(url) as response:\n",
    "        html = response.read()\n",
    "        html = html.decode('utf-8')\n",
    "    response.close()\n",
    "    soup = BeautifulSoup(html, 'lxml')\n",
    "    return soup"
   ]
  },
  {
   "cell_type": "code",
   "execution_count": null,
   "id": "0ab9ace1",
   "metadata": {
    "id": "0ab9ace1",
    "outputId": "ad691e4e-b361-4f8a-efdb-c2ea5deff97f"
   },
   "outputs": [],
   "source": [
    "number = soup.find('ul', class_ = 'uk-pagination')\n",
    "page_number = int(number.find_all('a')[-1]['data-ci-pagination-page'])\n",
    "page_number"
   ]
  },
  {
   "cell_type": "code",
   "execution_count": null,
   "id": "1c837703",
   "metadata": {
    "id": "1c837703"
   },
   "outputs": [],
   "source": [
    "for i in range(420, page_number+1): # link của n trang\n",
    "  page_url = \"https://batdongsan.vn/ban-nha/p\" + str(i)\n",
    "  pages_url.append(page_url)"
   ]
  },
  {
   "cell_type": "code",
   "execution_count": null,
   "id": "75852aa9",
   "metadata": {},
   "outputs": [],
   "source": [
    "def get_ID(dom):\n",
    "    try:\n",
    "        temp = dom.find('div', class_='project-global-object-block-003 information-custom')\n",
    "        id_element = temp.find('strong', string = 'Mã tin:')\n",
    "        id = id_element.next_sibling.strip().split(' ')[0]\n",
    "    except Exception as e: \n",
    "        id = \"ID is not available\"\n",
    "    return id "
   ]
  },
  {
   "cell_type": "code",
   "execution_count": null,
   "id": "8dbf5674",
   "metadata": {
    "id": "8dbf5674"
   },
   "outputs": [],
   "source": [
    "def get_Price(dom):\n",
    "    try:\n",
    "        temp = dom.find('div', class_='project-global-object-block-003 information-custom')\n",
    "        price = temp.find('strong', class_ = \"price\").text.strip()\n",
    "    except Exception as e: \n",
    "        price = \"Price is not available\"\n",
    "    return price"
   ]
  },
  {
   "cell_type": "code",
   "execution_count": null,
   "id": "d5dd75d9",
   "metadata": {
    "id": "d5dd75d9"
   },
   "outputs": [],
   "source": [
    "def get_Location(dom):\n",
    "    try:\n",
    "        temp = dom.find('ul', class_ = \"uk-breadcrumb\")\n",
    "        temp1 = temp.find_all('li')\n",
    "        result = temp1[3].text + ', ' + temp1[2].text\n",
    "    except Exception as e: \n",
    "        result = \"Location is not available\"\n",
    "    return result"
   ]
  },
  {
   "cell_type": "code",
   "execution_count": null,
   "id": "59827a17",
   "metadata": {
    "id": "59827a17"
   },
   "outputs": [],
   "source": [
    "def get_Area(dom):\n",
    "    try:\n",
    "        temp = dom.find('div', class_='project-global-object-block-003 information-custom')\n",
    "        area_element = temp.find('strong', string = 'Diện tích:')\n",
    "        area = area_element.next_sibling.strip().split(' ')[0]\n",
    "    except Exception as e: \n",
    "        area = \"Area is not available\"\n",
    "    return area"
   ]
  },
  {
   "cell_type": "code",
   "execution_count": null,
   "id": "3ccae1e3",
   "metadata": {
    "id": "3ccae1e3"
   },
   "outputs": [],
   "source": [
    "def get_Bathroom(dom):\n",
    "    try:\n",
    "        temp = dom.find('div', class_='project-global-object-block-003 information-custom')\n",
    "        bathroom_element = temp.find('strong', string = 'Phòng WC:')\n",
    "        bathroom = bathroom_element.next_sibling.strip().split(' ')[0]\n",
    "    except Exception as e: \n",
    "        bathroom = \"Bathroom is not available\"\n",
    "    return bathroom"
   ]
  },
  {
   "cell_type": "code",
   "execution_count": null,
   "id": "6f980c32",
   "metadata": {
    "id": "6f980c32"
   },
   "outputs": [],
   "source": [
    "def get_Bedroom(dom):\n",
    "    try:\n",
    "        temp = dom.find('div', class_='project-global-object-block-003 information-custom')\n",
    "        bedroom_element = temp.find('strong', string = 'Phòng ngủ:')\n",
    "        bedroom = bedroom_element.next_sibling.strip().split(' ')[0]\n",
    "    except Exception as e:\n",
    "        bedroom = \"Bedroom is not available\"\n",
    "    return bedroom"
   ]
  },
  {
   "cell_type": "code",
   "execution_count": null,
   "id": "6fb65ded",
   "metadata": {
    "id": "6fb65ded"
   },
   "outputs": [],
   "source": [
    "def get_Content(dom):\n",
    "    try:\n",
    "        a = dom.find('div', class_='project-global-object-block-003 information-custom')\n",
    "        content1 = a.span.text\n",
    "        temp = dom.find('div',class_ = 'project-global-object-block-003 block-custom').find('div', class_ ='content')\n",
    "        content2 = temp.text.replace('\\n','').replace('\\r','').replace('+','').strip()\n",
    "        content = content1 + ' ' + content2\n",
    "        \n",
    "    except Exception as e:\n",
    "        content = \"NULL\"\n",
    "    return content"
   ]
  },
  {
   "cell_type": "code",
   "execution_count": null,
   "id": "7eb45290",
   "metadata": {},
   "outputs": [],
   "source": [
    "def get_Picture(dom,ID):\n",
    "    try:\n",
    "      wrapper = dom.find(\"div\",class_='uk-slider uk-grid uk-grid-small uk-grid-width-1-3 uk-grid-width-medium-1-4')\n",
    "      images = wrapper.find_all(\"div\",class_='image cover')\n",
    "      if not os.path.exists('./download/'):\n",
    "        os.makedirs('./download/')\n",
    "      for image in images:\n",
    "        imgData = image.find('img')['src']\n",
    "        if(\"data:image\" not in imgData):\n",
    "          if(imgData):\n",
    "            downloadPath = './download/'\n",
    "            filename = imgData.split('/')[-1]\n",
    "            response = requests.get(imgData)\n",
    "\n",
    "            file = open(downloadPath + ID + \"-\" + filename, \"wb\")\n",
    "            file.write(response.content)\n",
    "            file.close()\n",
    "    except Exception as e:\n",
    "      print(\"An exception occurred:\", e)"
   ]
  },
  {
   "cell_type": "code",
   "execution_count": null,
   "id": "422af35e",
   "metadata": {
    "id": "422af35e"
   },
   "outputs": [],
   "source": [
    "def regex_content(content):\n",
    "    mat_tien = 0\n",
    "    so_tang = 'NULL'\n",
    "    so_pn = 'NULL'\n",
    "    so_wc = 'NULL'\n",
    "    dien_tich = \"Area is not available\"\n",
    "\n",
    "    if content != 'NULL': \n",
    "        a = re.search(r\"mặt tiền|mặt phố|mặt đường\",content,re.IGNORECASE)\n",
    "        if a:\n",
    "            mat_tien = 1\n",
    "                    \n",
    "        tang=re.findall(r\"tầng \\d{1,2}|\\d{1,2} tầng\",content,re.IGNORECASE)\n",
    "        tret_lau=re.findall(r\"\\d{1,2} lầu|\\d{1,2} lửng\",content,re.IGNORECASE)\n",
    "        b1=re.findall(\"\\d+\",\" \".join(tang))\n",
    "        b2=re.findall(\"\\d+\",\" \".join(tret_lau))\n",
    "        if len(b1)!=0:\n",
    "            b1=list(map(int,b1))\n",
    "            so_tang = max(b1)\n",
    "        elif len(b2)!=0:\n",
    "            b2=list(map(int,b2))\n",
    "            so_tang = max(b2)+1  #lầu thì luôn có trệt => +1\n",
    "            \n",
    "        c = re.findall(r\"(\\d+)\\s*(?=phòng ngủ|pn|ngủ)\",content,re.IGNORECASE)\n",
    "        if len(c)!=0:\n",
    "            c=list(map(int,c))\n",
    "            so_pn = max(c)\n",
    "        \n",
    "        d = re.findall(r\"(\\d+)\\s*(?=phòng vệ sinh|wc|nhà vệ sinh|nvs|pvs|vệ sinh|vs)\",content,re.IGNORECASE)\n",
    "        if len(d)!=0:\n",
    "            d=list(map(int,d))\n",
    "            so_wc = max(d)\n",
    "\n",
    "        e = re.search(r\"\\d{1,3}\\s*(?=m2|m²)|\\d{1,3}\\s*x\\s*\\d{1,3}\",content,re.IGNORECASE)\n",
    "        if e:\n",
    "            dien_tich=1\n",
    "            for i in list(map(int,re.findall(r\"\\d+\",e.group()))):\n",
    "                dien_tich*=i\n",
    "\n",
    "    return  mat_tien, so_tang, so_pn, so_wc, dien_tich\n",
    "    "
   ]
  },
  {
   "cell_type": "code",
   "execution_count": null,
   "id": "af5574c2",
   "metadata": {
    "id": "af5574c2"
   },
   "outputs": [],
   "source": [
    "data_csv = []\n",
    "for link_page in pages_url:\n",
    "  soup_temp = get_dom(link_page)  # get_dom page trang\n",
    "  urls = soup_temp.find('div', class_ = 'uk-grid uk-grid-small uk-grid-width-1-1')\n",
    "  actual_link = urls.find_all('div', class_ = 'name')\n",
    "\n",
    "  for data in actual_link:\n",
    "    data_url = data.a['href']\n",
    "    link_dom = get_dom(data_url)\n",
    "    ID = get_ID(link_dom)\n",
    "    if ID != 'ID is not available':\n",
    "        get_Picture(link_dom,ID)\n",
    "    content = get_Content(link_dom)\n",
    "    price = get_Price(link_dom)\n",
    "    area = get_Area(link_dom)\n",
    "    location = get_Location(link_dom)\n",
    "    bedroom = get_Bedroom(link_dom)\n",
    "    bathroom = get_Bathroom(link_dom)\n",
    "    mat_tien, so_tang, so_pn, so_wc, dien_tich = regex_content(content)\n",
    "    if bedroom == 'Bedroom is not available' :\n",
    "        bedroom = so_pn\n",
    "    if bathroom == 'Bathroom is not available' :\n",
    "        bathroom = so_wc\n",
    "    if area == 'Area is not available' :\n",
    "        area = dien_tich\n",
    "    \n",
    "    data_csv.append([ID, location, area, bedroom, bathroom, mat_tien, so_tang, price])\n",
    "\n",
    "df = pd.DataFrame(data_csv, columns=['ID', 'Location', 'Area', 'Bedroom', 'Bathroom','Frontage', 'Floors', 'Price'])\n",
    "df.to_csv('data.csv')\n",
    "    "
   ]
  }
 ],
 "metadata": {
  "colab": {
   "provenance": []
  },
  "kernelspec": {
   "display_name": "Python 3 (ipykernel)",
   "language": "python",
   "name": "python3"
  },
  "language_info": {
   "codemirror_mode": {
    "name": "ipython",
    "version": 3
   },
   "file_extension": ".py",
   "mimetype": "text/x-python",
   "name": "python",
   "nbconvert_exporter": "python",
   "pygments_lexer": "ipython3",
   "version": "3.9.16"
  }
 },
 "nbformat": 4,
 "nbformat_minor": 5
}
